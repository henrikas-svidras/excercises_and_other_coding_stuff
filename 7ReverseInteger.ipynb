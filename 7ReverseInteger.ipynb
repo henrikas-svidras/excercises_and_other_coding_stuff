{
 "cells": [
  {
   "cell_type": "code",
   "execution_count": 50,
   "metadata": {},
   "outputs": [
    {
     "name": "stdout",
     "output_type": "stream",
     "text": [
      "max   [2, 1, 4, 7, 4, 8, 3, 6, 4, 7]\n",
      "input [2, 1, 4, 7, 4, 8, 3, 6, 5, 1]\n",
      "2 2\n",
      "1 1\n",
      "4 4\n",
      "7 7\n",
      "4 4\n",
      "8 8\n",
      "3 3\n",
      "6 6\n",
      "5 4\n"
     ]
    },
    {
     "data": {
      "text/plain": [
       "0"
      ]
     },
     "execution_count": 50,
     "metadata": {},
     "output_type": "execute_result"
    }
   ],
   "source": [
    "class Solution:\n",
    "    @classmethod\n",
    "    def reverse(self, x: int) -> int:\n",
    "        \n",
    "        sign = 1 if x>0 else -1\n",
    "        max_integer = 2**31-1 if sign>0 else 2**31\n",
    "        x = sign * x\n",
    "        max_digits = self.digitise(max_integer)[::-1]\n",
    "        print(\"max  \", max_digits)\n",
    "\n",
    "        digits = self.digitise(x)\n",
    "        print(\"input\",digits)\n",
    "\n",
    "        if len(digits)<len(max_digits):\n",
    "            return sign*self.numberise(digits)\n",
    "        else:\n",
    "            for i in range(len(digits)):\n",
    "                print(digits[i],max_digits[i])\n",
    "                if digits[i]>max_digits[i]:\n",
    "                    return 0\n",
    "                elif digits[i]<max_digits[i]:\n",
    "                    print(\"trigger?\")\n",
    "                    return sign*self.numberise(digits)\n",
    "            return sign*self.numberise(digits)\n",
    "                \n",
    "\n",
    "            \n",
    "    \n",
    "    @classmethod\n",
    "    def digitise(self, number):\n",
    "        digits = []\n",
    "        while number>=10:\n",
    "            digits.append(number%10)\n",
    "            number = (number-number%10)//10\n",
    "        digits.append(number)\n",
    "\n",
    "        return digits\n",
    "    \n",
    "    @classmethod\n",
    "    def numberise(self, digits):\n",
    "        multiplier = 1\n",
    "        value = 0\n",
    "        for dig in digits[::-1]:\n",
    "            value+=dig*multiplier\n",
    "            multiplier*=10\n",
    "        return value\n",
    "    \n",
    "Solution.reverse(1563847412)\n",
    "# Solution.reverse(2**31)"
   ]
  },
  {
   "cell_type": "code",
   "execution_count": 49,
   "metadata": {},
   "outputs": [
    {
     "data": {
      "text/plain": [
       "2147483648"
      ]
     },
     "execution_count": 49,
     "metadata": {},
     "output_type": "execute_result"
    }
   ],
   "source": [
    "2**31"
   ]
  },
  {
   "cell_type": "code",
   "execution_count": 26,
   "metadata": {},
   "outputs": [
    {
     "data": {
      "text/plain": [
       "0"
      ]
     },
     "execution_count": 26,
     "metadata": {},
     "output_type": "execute_result"
    }
   ],
   "source": [
    "10%10"
   ]
  },
  {
   "cell_type": "code",
   "execution_count": null,
   "metadata": {},
   "outputs": [],
   "source": []
  }
 ],
 "metadata": {
  "interpreter": {
   "hash": "2572c313a27b8adbefddb2d7245346c5f956997f40e05f408e7f51c258a0d4d3"
  },
  "kernelspec": {
   "display_name": "Python 3.9.13 64-bit (windows store)",
   "name": "python3"
  },
  "language_info": {
   "codemirror_mode": {
    "name": "ipython",
    "version": 3
   },
   "file_extension": ".py",
   "mimetype": "text/x-python",
   "name": "python",
   "nbconvert_exporter": "python",
   "pygments_lexer": "ipython3",
   "version": "3.9.13"
  },
  "orig_nbformat": 4
 },
 "nbformat": 4,
 "nbformat_minor": 2
}
