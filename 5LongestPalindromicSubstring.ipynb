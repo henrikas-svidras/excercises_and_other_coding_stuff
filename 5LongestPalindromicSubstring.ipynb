{
 "cells": [
  {
   "cell_type": "code",
   "execution_count": 37,
   "metadata": {},
   "outputs": [
    {
     "name": "stdout",
     "output_type": "stream",
     "text": [
      "00\n"
     ]
    }
   ],
   "source": [
    "class Solution:\n",
    "    @classmethod\n",
    "    def longestPalindrome(self, s: str) -> str:\n",
    "\n",
    "        map_dic = dict()\n",
    "\n",
    "        for n, let in enumerate(s):\n",
    "            if not let in map_dic:\n",
    "                map_dic[let] =[]\n",
    "            map_dic[let].append(n)\n",
    "        \n",
    "        longest_palindrome = s[0]\n",
    "\n",
    "        for let, vals in map_dic.items():\n",
    "            if len(vals)>1:\n",
    "                combs = self.permutations(vals)\n",
    "                for b,f in combs:\n",
    "                    if len(s[b:f+1])>len(longest_palindrome) and s[b:f+1] == s[b:f+1][::-1]:\n",
    "                        longest_palindrome = s[b:f+1]\n",
    "\n",
    "            \n",
    "        return longest_palindrome\n",
    "\n",
    "    @classmethod\n",
    "    def permutations(self, l: list) -> list:\n",
    "        perms = []\n",
    "        for val1 in l:\n",
    "            for val2 in l:\n",
    "                if val2>val1:\n",
    "                    perms.append((val1,val2))\n",
    "        return perms\n",
    "\n",
    "\n",
    "a = Solution.longestPalindrome(\"1200\")\n",
    "print(a)"
   ]
  },
  {
   "cell_type": "code",
   "execution_count": 5,
   "metadata": {},
   "outputs": [],
   "source": [
    "a = [1,2,3,4,5,6,7,8,9]"
   ]
  },
  {
   "cell_type": "code",
   "execution_count": 19,
   "metadata": {},
   "outputs": [
    {
     "ename": "TypeError",
     "evalue": "unsupported operand type(s) for -: 'str' and 'str'",
     "output_type": "error",
     "traceback": [
      "\u001b[1;31m---------------------------------------------------------------------------\u001b[0m",
      "\u001b[1;31mTypeError\u001b[0m                                 Traceback (most recent call last)",
      "Input \u001b[1;32mIn [19]\u001b[0m, in \u001b[0;36m<cell line: 1>\u001b[1;34m()\u001b[0m\n\u001b[1;32m----> 1\u001b[0m \u001b[38;5;124;43m\"\u001b[39;49m\u001b[38;5;124;43mabc\u001b[39;49m\u001b[38;5;124;43m\"\u001b[39;49m\u001b[43m \u001b[49m\u001b[38;5;241;43m-\u001b[39;49m\u001b[43m \u001b[49m\u001b[38;5;124;43m\"\u001b[39;49m\u001b[38;5;124;43mabc\u001b[39;49m\u001b[38;5;124;43m\"\u001b[39;49m\n",
      "\u001b[1;31mTypeError\u001b[0m: unsupported operand type(s) for -: 'str' and 'str'"
     ]
    }
   ],
   "source": [
    "\"abc\" - \"abc\""
   ]
  },
  {
   "cell_type": "code",
   "execution_count": null,
   "metadata": {},
   "outputs": [],
   "source": []
  }
 ],
 "metadata": {
  "interpreter": {
   "hash": "2572c313a27b8adbefddb2d7245346c5f956997f40e05f408e7f51c258a0d4d3"
  },
  "kernelspec": {
   "display_name": "Python 3.9.13 64-bit (windows store)",
   "name": "python3"
  },
  "language_info": {
   "codemirror_mode": {
    "name": "ipython",
    "version": 3
   },
   "file_extension": ".py",
   "mimetype": "text/x-python",
   "name": "python",
   "nbconvert_exporter": "python",
   "pygments_lexer": "ipython3",
   "version": "3.9.13"
  },
  "orig_nbformat": 4
 },
 "nbformat": 4,
 "nbformat_minor": 2
}
