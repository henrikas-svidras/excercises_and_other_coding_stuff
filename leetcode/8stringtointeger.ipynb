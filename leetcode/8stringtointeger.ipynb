{
 "cells": [
  {
   "cell_type": "code",
   "execution_count": 21,
   "metadata": {},
   "outputs": [
    {
     "data": {
      "text/plain": [
       "0"
      ]
     },
     "execution_count": 21,
     "metadata": {},
     "output_type": "execute_result"
    }
   ],
   "source": [
    "class Solution:\n",
    "    @classmethod\n",
    "    def myAtoi(self, s: str) -> int:\n",
    "        \n",
    "        if s==\"\":\n",
    "            return 0\n",
    "\n",
    "        pointer = 0\n",
    "        num = 0\n",
    "        for ch in s:\n",
    "            if ch==\" \":\n",
    "                pointer +=1\n",
    "            else:\n",
    "                break\n",
    "\n",
    "        if s[pointer:]==\"\":\n",
    "            return 0\n",
    "        \n",
    "        print(pointer)\n",
    "\n",
    "        if s[pointer]==\"-\":\n",
    "            sign = -1 \n",
    "            pointer+=1\n",
    "        elif s[pointer]==\"+\":\n",
    "            sign = 1\n",
    "            pointer+=1\n",
    "        elif s[pointer].isdigit():\n",
    "            sign = 1\n",
    "        else:\n",
    "            return 0\n",
    "        \n",
    "        if s[pointer:]==\"\":\n",
    "            return 0\n",
    "\n",
    "        for s in s[pointer:]:\n",
    "            if not s.isdigit():\n",
    "                break\n",
    "            num=num*10+int(s)\n",
    "\n",
    "        if sign>0:\n",
    "            num = min(2**31-1,num)\n",
    "        else:\n",
    "            num = -min(2**31,num)\n",
    "\n",
    "        return num\n",
    "\n",
    "Solution.myAtoi(\" \")\n",
    "\n"
   ]
  },
  {
   "cell_type": "code",
   "execution_count": 3,
   "metadata": {},
   "outputs": [
    {
     "data": {
      "text/plain": [
       "'-'"
      ]
     },
     "execution_count": 3,
     "metadata": {},
     "output_type": "execute_result"
    }
   ],
   "source": [
    "\"   -42\"[3]"
   ]
  },
  {
   "cell_type": "code",
   "execution_count": null,
   "metadata": {},
   "outputs": [],
   "source": []
  }
 ],
 "metadata": {
  "interpreter": {
   "hash": "2572c313a27b8adbefddb2d7245346c5f956997f40e05f408e7f51c258a0d4d3"
  },
  "kernelspec": {
   "display_name": "Python 3.9.13 64-bit (windows store)",
   "name": "python3"
  },
  "language_info": {
   "codemirror_mode": {
    "name": "ipython",
    "version": 3
   },
   "file_extension": ".py",
   "mimetype": "text/x-python",
   "name": "python",
   "nbconvert_exporter": "python",
   "pygments_lexer": "ipython3",
   "version": "3.9.13"
  },
  "orig_nbformat": 4
 },
 "nbformat": 4,
 "nbformat_minor": 2
}
