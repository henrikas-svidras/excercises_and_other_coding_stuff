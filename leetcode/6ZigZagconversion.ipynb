{
 "cells": [
  {
   "cell_type": "code",
   "execution_count": 54,
   "metadata": {},
   "outputs": [
    {
     "data": {
      "text/plain": [
       "'PRAIIYHNPSGAIL'"
      ]
     },
     "execution_count": 54,
     "metadata": {},
     "output_type": "execute_result"
    }
   ],
   "source": [
    "class Solution:\n",
    "    \"\"\"\n",
    "    reading from start into separate rows, when you reach last row change direction, \n",
    "    when you return to the 0th row change direction again.\n",
    "    \"\"\"\n",
    "    @classmethod\n",
    "    def convert(self, s: str, numRows: int) -> str:\n",
    "        \n",
    "        if numRows == 1:\n",
    "            return s\n",
    "        \n",
    "        rows = [\"\"]*numRows\n",
    "        \n",
    "        step = -1\n",
    "        row = 0\n",
    "        for i in range(len(s)):\n",
    "            \n",
    "            rows[row]+=s[i]\n",
    "            if (row == 0 or row==numRows-1):\n",
    "                #change direction because you reached the end\n",
    "                step *= -1\n",
    "            row+=step\n",
    "            \n",
    "        return \"\".join(rows)\n",
    "\n",
    "\n",
    "\n",
    "Solution.convert(\"PAYPALISHIRING\", 6) "
   ]
  },
  {
   "cell_type": "code",
   "execution_count": 43,
   "metadata": {},
   "outputs": [
    {
     "data": {
      "text/plain": [
       "4"
      ]
     },
     "execution_count": 43,
     "metadata": {},
     "output_type": "execute_result"
    }
   ],
   "source": [
    "14//3"
   ]
  },
  {
   "cell_type": "code",
   "execution_count": null,
   "metadata": {},
   "outputs": [],
   "source": []
  }
 ],
 "metadata": {
  "interpreter": {
   "hash": "2572c313a27b8adbefddb2d7245346c5f956997f40e05f408e7f51c258a0d4d3"
  },
  "kernelspec": {
   "display_name": "Python 3.9.13 64-bit (windows store)",
   "name": "python3"
  },
  "language_info": {
   "codemirror_mode": {
    "name": "ipython",
    "version": 3
   },
   "file_extension": ".py",
   "mimetype": "text/x-python",
   "name": "python",
   "nbconvert_exporter": "python",
   "pygments_lexer": "ipython3",
   "version": "3.9.13"
  },
  "orig_nbformat": 4
 },
 "nbformat": 4,
 "nbformat_minor": 2
}
