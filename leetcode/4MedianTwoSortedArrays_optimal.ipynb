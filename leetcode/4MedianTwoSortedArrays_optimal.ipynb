{
 "cells": [
  {
   "cell_type": "code",
   "execution_count": 5,
   "metadata": {},
   "outputs": [
    {
     "data": {
      "text/plain": [
       "2.5"
      ]
     },
     "execution_count": 5,
     "metadata": {},
     "output_type": "execute_result"
    }
   ],
   "source": [
    "class Solution:\n",
    "    @classmethod\n",
    "    #def findMedianSortedArrays(self, nums1: List[int], nums2: List[int]) -> float:\n",
    "    def findMedianSortedArrays(self, nums1: list, nums2: list) -> float:\n",
    "\n",
    "        if len(nums1)>len(nums2):\n",
    "            findMedianSortedArrays(nums2,nums1)\n",
    "        total_length = len(nums1+nums2)\n",
    "        half_length = total_length//2\n",
    "\n",
    "        left_string_found = False\n",
    "        \n",
    "        li, ri = 0, len(nums1) - 1\n",
    "\n",
    "        while not left_string_found:\n",
    "            mid1 = (lr+ri ) // 2\n",
    "            mid2 = half_length - mid1 - 2\n",
    "\n",
    "            left1 = nums1[mid1] if mid1>=0 else float(\"-infinity\")\n",
    "            right1 = nums1[mid1 + 1] if (mid1+1)<len(nums1) else float(\"infinity\")\n",
    "            left2 = nums2[mid2] if mid2>=0 else float(\"-infinity\")\n",
    "            right2 = nums2[mid2 + 1] if (mid2+1)<len(nums2) else float(\"infinity\")\n",
    "\n",
    "            if left1<=right2 and left2<=right2:\n",
    "                break\n",
    "            elif left1>right2:\n",
    "                ri = mid1 -1\n",
    "            else:\n",
    "                li = mid1 + 1\n",
    "\n",
    "        \n",
    "        if total_length%2:\n",
    "            return min(right1,right2)\n",
    "        else:\n",
    "            return (max(left1,left2) + min(right1,right2))/2\n",
    "            \n",
    "\n",
    "\n",
    "# This is too easy if you use python sorted method.\n",
    "Solution.findMedianSortedArrays([1,2],[3,4])\n"
   ]
  }
 ],
 "metadata": {
  "interpreter": {
   "hash": "2572c313a27b8adbefddb2d7245346c5f956997f40e05f408e7f51c258a0d4d3"
  },
  "kernelspec": {
   "display_name": "Python 3.9.13 64-bit (windows store)",
   "name": "python3"
  },
  "language_info": {
   "codemirror_mode": {
    "name": "ipython",
    "version": 3
   },
   "file_extension": ".py",
   "mimetype": "text/x-python",
   "name": "python",
   "nbconvert_exporter": "python",
   "pygments_lexer": "ipython3",
   "version": "3.9.13"
  },
  "orig_nbformat": 4
 },
 "nbformat": 4,
 "nbformat_minor": 2
}
